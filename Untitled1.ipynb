{
  "nbformat": 4,
  "nbformat_minor": 0,
  "metadata": {
    "colab": {
      "provenance": [],
      "authorship_tag": "ABX9TyMJKpYbT7vD2Fw/4h38IsWI",
      "include_colab_link": true
    },
    "kernelspec": {
      "name": "python3",
      "display_name": "Python 3"
    },
    "language_info": {
      "name": "python"
    }
  },
  "cells": [
    {
      "cell_type": "markdown",
      "metadata": {
        "id": "view-in-github",
        "colab_type": "text"
      },
      "source": [
        "<a href=\"https://colab.research.google.com/github/Hijaab/Power-Clean-washing-company-Website/blob/main/Untitled1.ipynb\" target=\"_parent\"><img src=\"https://colab.research.google.com/assets/colab-badge.svg\" alt=\"Open In Colab\"/></a>"
      ]
    },
    {
      "cell_type": "code",
      "execution_count": null,
      "metadata": {
        "colab": {
          "base_uri": "https://localhost:8080/"
        },
        "id": "fUsR5BpdaYr_",
        "outputId": "7e86b48a-ca24-4a2a-c45c-fc525d89c38b"
      },
      "outputs": [
        {
          "output_type": "stream",
          "name": "stdout",
          "text": [
            "Enter the Marks of 5 Subjects:\n",
            "DSA: 9\n",
            "Linear Algebra: 99\n",
            "MIS: 99\n",
            "HCI: 99\n",
            "Requirement_Engineering: 99\n",
            "The average of the entered 5 subjects is  81.0 and the grade is  A-Grade\n"
          ]
        }
      ],
      "source": [
        "print(\"Enter the Marks of 5 Subjects:\")\n",
        "DSA = int(input(\"DSA: \"))\n",
        "Linear_Algebra = int(input(\"Linear Algebra: \"))\n",
        "MIS = int(input(\"MIS: \"))\n",
        "HCI = int(input(\"HCI: \"))\n",
        "Requirement_Engineering = int(input(\"Requirement_Engineering: \"))\n",
        "average = ((DSA + Linear_Algebra + MIS + HCI + Requirement_Engineering) / 500) * 100\n",
        "\n",
        "if average >= 90:\n",
        "  grade = \"A-One\"\n",
        "elif average < 90 and average >= 70:\n",
        "  grade = \"A-Grade\"\n",
        "elif average < 70 and average >= 50:\n",
        "  grade = \"B-Grade\"\n",
        "elif average < 50 and average >0:\n",
        "  grade = \"Fail\"\n",
        "\n",
        "print(\"The average of the entered 5 subjects is \", average, \"and the grade is \", grade)"
      ]
    },
    {
      "cell_type": "code",
      "source": [
        "num = int(input(\"Enter the number: \"))\n",
        "result = num % 2\n",
        "if result == 0:\n",
        "  print(num, \"is Even\")\n",
        "else:\n",
        "  print(num, \"is odd\")"
      ],
      "metadata": {
        "colab": {
          "base_uri": "https://localhost:8080/"
        },
        "id": "lS2x-mUNAOYg",
        "outputId": "07e72b5e-275a-4635-e1c1-4705565512fd"
      },
      "execution_count": null,
      "outputs": [
        {
          "output_type": "stream",
          "name": "stdout",
          "text": [
            "Enter the number: 90\n",
            "90 is Even\n"
          ]
        }
      ]
    },
    {
      "cell_type": "code",
      "source": [
        "import array as arr\n",
        "print(\"Inserting 50 at position 3:\")\n",
        "a = arr.array('i', [25, 13, 45, 67, 34, 11, 23, 17, 20, 6])\n",
        "a.insert(2, 50)\n",
        "print(a)\n",
        "print(\" \")\n",
        "print(\"Traversing the array:\")\n",
        "for x in a:\n",
        "  print(x)\n",
        "print(\" \")\n",
        "print(\"Deleting an element located at position 5\")\n",
        "a.remove(34)\n",
        "print(a)\n",
        "\n",
        "\n"
      ],
      "metadata": {
        "id": "Nv3cvBe2ZD6r",
        "colab": {
          "base_uri": "https://localhost:8080/"
        },
        "outputId": "41e84b02-c48e-4b50-f578-35aba81cf201"
      },
      "execution_count": 4,
      "outputs": [
        {
          "output_type": "stream",
          "name": "stdout",
          "text": [
            "Inserting 50 at position 3:\n",
            "array('i', [25, 13, 50, 45, 67, 34, 11, 23, 17, 20, 6])\n",
            " \n",
            "Traversing the array:\n",
            "25\n",
            "13\n",
            "50\n",
            "45\n",
            "67\n",
            "34\n",
            "11\n",
            "23\n",
            "17\n",
            "20\n",
            "6\n",
            " \n",
            "Deleting an element located at position 5\n",
            "array('i', [25, 13, 50, 45, 67, 11, 23, 17, 20, 6])\n"
          ]
        }
      ]
    },
    {
      "cell_type": "code",
      "source": [
        "import array as arr\n",
        "a = arr.array('i', [1, 2, 3, 4, 5])\n",
        "a.reverse()\n",
        "print(\"Reverse a list is \", a)"
      ],
      "metadata": {
        "colab": {
          "base_uri": "https://localhost:8080/"
        },
        "id": "dkdlEzOkpk3o",
        "outputId": "defd012d-cc4f-4d7d-e452-be7654b0ae17"
      },
      "execution_count": 7,
      "outputs": [
        {
          "output_type": "stream",
          "name": "stdout",
          "text": [
            "array('i', [5, 4, 3, 2, 1])\n"
          ]
        }
      ]
    },
    {
      "cell_type": "code",
      "source": [
        "import array as arr\n",
        "a = arr.array('i', [34, 13, 56, 78, 23, 45, 67, 89])\n",
        "min = a[0]\n",
        "for  i in range(0, len(a)):\n",
        "  if a[i] < min:\n",
        "    min = a[i]\n",
        "print(\"The lowest value in the provided array is \", str(min))\n"
      ],
      "metadata": {
        "colab": {
          "base_uri": "https://localhost:8080/"
        },
        "id": "PuKABBKmsdZC",
        "outputId": "07654ee7-7338-4d71-cbb9-50f4ed12632b"
      },
      "execution_count": 13,
      "outputs": [
        {
          "output_type": "stream",
          "name": "stdout",
          "text": [
            "The lowest value in the provided array is  13\n"
          ]
        }
      ]
    },
    {
      "cell_type": "code",
      "source": [
        "thislist = [\"Babar\", \"Rizwan\", \"Shaheen\"]\n",
        "thislist.reverse()\n",
        "print(thislist[0:])"
      ],
      "metadata": {
        "colab": {
          "base_uri": "https://localhost:8080/"
        },
        "id": "r6p7I79UyPNc",
        "outputId": "212701ff-1d6b-4167-8953-944e7e14f79f"
      },
      "execution_count": 14,
      "outputs": [
        {
          "output_type": "stream",
          "name": "stdout",
          "text": [
            "Reverse a list is  array('i', [5, 4, 3, 2, 1])\n"
          ]
        }
      ]
    },
    {
      "cell_type": "code",
      "source": [
        "num = [1, 2, 3, 4]\n",
        "newlist = []\n",
        "for x in num:\n",
        "   newlist.append(x*x)\n",
        "print(newlist)   "
      ],
      "metadata": {
        "colab": {
          "base_uri": "https://localhost:8080/"
        },
        "id": "cdVOHJ7NdsDC",
        "outputId": "16598964-a702-4999-b1d7-58bd24c2af6b"
      },
      "execution_count": null,
      "outputs": [
        {
          "output_type": "stream",
          "name": "stdout",
          "text": [
            "[1, 4, 9, 16]\n"
          ]
        }
      ]
    },
    {
      "cell_type": "code",
      "source": [
        "list1 = [56, 16, 10]\n",
        "list2 = [\"Babar\", \"Rizwan\", \"Shaheen\"]\n",
        "list3 = [\"Batsman\", \"Wicket-Keeper\", \"Bowler\"]\n",
        "newlist = []\n",
        "\n",
        "for x in list1:\n",
        "  newlist.append(x)\n",
        "\n",
        "for x in list2:\n",
        "  newlist.append(x)  \n",
        "\n",
        "for x in list3:\n",
        "  newlist.append(x)\n",
        "\n",
        "print(newlist)"
      ],
      "metadata": {
        "colab": {
          "base_uri": "https://localhost:8080/"
        },
        "id": "GUZYSexsgDJX",
        "outputId": "73167752-a680-4efa-eee1-9be61a364c38"
      },
      "execution_count": null,
      "outputs": [
        {
          "output_type": "stream",
          "name": "stdout",
          "text": [
            "[56, 16, 10, 'Babar', 'Rizwan', 'Shaheen', 'Batsman', 'Wicket-Keeper', 'Bowler']\n"
          ]
        }
      ]
    },
    {
      "cell_type": "code",
      "source": [
        "list1 = [\"Mike\", \"\", \"Emma\", \"Kellly\", \"\", \"Brad\"]\n",
        "for x in list1:\n",
        "  if x == \"\":\n",
        "    list1.remove(x)\n",
        "print(list1)\n",
        "\n"
      ],
      "metadata": {
        "colab": {
          "base_uri": "https://localhost:8080/"
        },
        "id": "x2bSaB5MhJvf",
        "outputId": "bbe5a557-7c9e-44f6-d5ce-d207264c4e18"
      },
      "execution_count": null,
      "outputs": [
        {
          "output_type": "stream",
          "name": "stdout",
          "text": [
            "['Mike', 'Emma', 'Kellly', 'Brad']\n"
          ]
        }
      ]
    },
    {
      "cell_type": "code",
      "source": [],
      "metadata": {
        "id": "Uiu46GA2k9Qt"
      },
      "execution_count": null,
      "outputs": []
    }
  ]
}